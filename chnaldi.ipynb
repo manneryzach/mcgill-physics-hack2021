{
  "cells": [
    {
      "cell_type": "markdown",
      "metadata": {
        "colab_type": "text",
        "id": "view-in-github"
      },
      "source": [
        "<a href=\"https://colab.research.google.com/github/manneryzach/mcgill-physics-hack2021/blob/main/chnald.ipynb\" target=\"_parent\"><img src=\"https://colab.research.google.com/assets/colab-badge.svg\" alt=\"Open In Colab\"/></a>"
      ]
    },
    {
      "cell_type": "markdown",
      "metadata": {},
      "source": [
        "### Chnaldi Plates \n",
        "\n"
      ]
    },
    {
      "cell_type": "markdown",
      "metadata": {},
      "source": [
        "Chnaldi plates consist of a flat metal piece, usually circular or square, attached to an oscillator. When the plate is vibrating, in a particular mode, the nodes and anti-nodes \n",
        "formed by the oscillation make complex but symmetrical patterns all over the surface that can be seen if sand is sprinkled on top ot it. \n",
        "\n",
        "Our project consists of finding those same patterns for boundary conditions more elaborate than the usal square. In fact, the user will make is own shape and the code will give him back the first resonance patterns. "
      ]
    },
    {
      "cell_type": "markdown",
      "metadata": {},
      "source": [
        "We are solving the Helmholtz equation in two dimensions for generalized boundary and initial conditions. "
      ]
    }
  ],
  "metadata": {
    "colab": {
      "authorship_tag": "ABX9TyOkVE5bctnJOBI3PA41oT+T",
      "include_colab_link": true,
      "name": "chnald.ipynb",
      "provenance": []
    },
    "kernelspec": {
      "display_name": "Python 3",
      "name": "python3"
    },
    "language_info": {
      "codemirror_mode": {
        "name": "ipython",
        "version": 3
      },
      "file_extension": ".py",
      "mimetype": "text/x-python",
      "name": "python",
      "nbconvert_exporter": "python",
      "pygments_lexer": "ipython3",
      "version": "3.8.12"
    }
  },
  "nbformat": 4,
  "nbformat_minor": 0
}
