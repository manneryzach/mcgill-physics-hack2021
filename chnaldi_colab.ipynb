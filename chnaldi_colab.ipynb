{
  "nbformat": 4,
  "nbformat_minor": 0,
  "metadata": {
    "colab": {
      "name": "chnaldi_colab.ipynb",
      "provenance": [],
      "include_colab_link": true
    },
    "kernelspec": {
      "name": "python3",
      "display_name": "Python 3"
    },
    "language_info": {
      "name": "python"
    }
  },
  "cells": [
    {
      "cell_type": "markdown",
      "metadata": {
        "id": "view-in-github",
        "colab_type": "text"
      },
      "source": [
        "<a href=\"https://colab.research.google.com/github/manneryzach/mcgill-physics-hack2021/blob/main/chnaldi_colab.ipynb\" target=\"_parent\"><img src=\"https://colab.research.google.com/assets/colab-badge.svg\" alt=\"Open In Colab\"/></a>"
      ]
    },
    {
      "cell_type": "markdown",
      "metadata": {
        "id": "sV7fPZpFM3vn"
      },
      "source": [
        "# Chnaldi Patterns\n",
        "Chnaldi figures are obtained when a certain piece of material, usually circular of square, is vibrating in a particular mode. the nodes and anti-nodes \n",
        "formed by the oscillation make complex but symmetrical patterns all over the surface that can be seen if a fine grain material is sprinkled on top of the surface.\n",
        "\n",
        "Our project consists of finding those same patterns for boundary conditions more elaborate than the usal square. In fact, the user will make is own shape and the code will give him back the first resonance patterns. \n"
      ]
    },
    {
      "cell_type": "code",
      "metadata": {
        "id": "WeHYWQtsSgkV"
      },
      "source": [
        "try:\n",
        "    import dolfin\n",
        "except ImportError:\n",
        "    !wget \"https://fem-on-colab.github.io/releases/fenics-install.sh\" -O \"/tmp/fenics-install.sh\" && bash \"/tmp/fenics-install.sh\"\n",
        "    import dolfin"
      ],
      "execution_count": null,
      "outputs": []
    },
    {
      "cell_type": "code",
      "metadata": {
        "id": "xX5oYjsdTKTk"
      },
      "source": [
        "from dolfin import *"
      ],
      "execution_count": 13,
      "outputs": []
    }
  ]
}